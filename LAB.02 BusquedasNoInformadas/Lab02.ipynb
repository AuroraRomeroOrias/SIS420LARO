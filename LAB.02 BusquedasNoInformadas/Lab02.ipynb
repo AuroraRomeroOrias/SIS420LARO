{
  "cells": [
    {
      "cell_type": "code",
      "execution_count": 5,
      "metadata": {
        "id": "_QMIWgcnWtkN"
      },
      "outputs": [],
      "source": [
        "# El programa corre sin fallas pero las dificultades que encuentro \n",
        "# son por parte de mi maquina ya que por la memoria se satura\n",
        "# el tiempo son mas de 8 horas y al final la maquina se cuelga\n",
        "\n",
        "# datos = estado\n",
        "class Nodo:\n",
        "    def __init__(self, datos, hijo=None):\n",
        "        self.datos = datos\n",
        "        self.hijos = []\n",
        "        self.padre = None\n",
        "        self.costo = None\n",
        "        self.set_hijo(hijo)\n",
        "        \n",
        "    def set_hijo(self, hijo):\n",
        "        if (hijo is not None):\n",
        "            self.hijos.append(hijo)\n",
        "            if self.hijos is not None:\n",
        "                for h in self.hijos:\n",
        "                    h.padre = self\n",
        "                \n",
        "    def get_hijos(self):\n",
        "        return self.hijos\n",
        "    \n",
        "    def set_padre(self, padre):\n",
        "        self.padre = padre\n",
        "        \n",
        "    def get_padre(self):\n",
        "        return self.padre\n",
        "\n",
        "    def set_datos(self, datos):\n",
        "        self.datos = datos\n",
        "    \n",
        "    def get_datos(self):\n",
        "        return self.datos\n",
        "    \n",
        "    def set_costo(self, costo):\n",
        "        self.costo = costo\n",
        "        \n",
        "    def get_costo(self):\n",
        "        return self.costo\n",
        "    \n",
        "    def equal(self, nodo):\n",
        "        if self.get_datos() == nodo.get_datos():\n",
        "            return True\n",
        "        else:\n",
        "            return False\n",
        "    \n",
        "    def en_lista(self, lista_nodos):\n",
        "        enlistado = False\n",
        "        for n in lista_nodos:\n",
        "            if self.equal(n):\n",
        "                enlistado = True\n",
        "        return enlistado\n",
        "    \n",
        "    def __str__(self):\n",
        "        return str(self.get_datos())\n",
        "[4]\n",
        "def bpa(estado_inicio, estado_solucion):\n",
        "    resuelto = False\n",
        "    nodos_visitados = []\n",
        "    nodos_frontera = []\n",
        "    nodo_inicio = Nodo(estado_inicio)\n",
        "    nodos_frontera.append(nodo_inicio)\n",
        "    \n",
        "    while resuelto == False and len(nodos_frontera) != 0:\n",
        "        nodo_actual = nodos_frontera.pop(0) \n",
        "        nodos_visitados.append(nodo_actual)\n",
        "        if nodo_actual.get_datos() == estado_solucion:\n",
        "            resuelto = True\n",
        "            return nodo_actual\n",
        "        else:\n",
        "            for i in range(len(estado_inicio)-1):\n",
        "                for j in range(len(estado_inicio)-1): \n",
        "                    hijo_datos = nodo_actual.get_datos().copy()    \n",
        "                    temp = hijo_datos[j]\n",
        "                    hijo_datos[j] = hijo_datos[j+1]\n",
        "                    hijo_datos[j+1] = temp\n",
        "                    hijo = Nodo(hijo_datos)\n",
        "                    #print(f'hijo {j+1}',hijo_datos)\n",
        "                    if not hijo.en_lista(nodos_visitados) and not hijo.en_lista(nodos_frontera):\n",
        "                        nodo_actual.set_hijo(hijo)\n",
        "                        nodos_frontera.append(hijo)\n"
      ]
    },
    {
      "cell_type": "code",
      "execution_count": 6,
      "metadata": {
        "colab": {
          "base_uri": "https://localhost:8080/"
        },
        "id": "meHuB3t_W0V-",
        "outputId": "381dc0a3-7363-4311-fda9-19377504e904"
      },
      "outputs": [
        {
          "name": "stdout",
          "output_type": "stream",
          "text": [
            "Tiempo de ejecucion :  0.0010020732879638672 seg. \n",
            "\n",
            "**************************************************\n",
            "Movimientos : \n",
            "\n",
            "[1, 2, 3, 4, 6, 5]\n",
            "[1, 2, 3, 4, 5, 6]\n"
          ]
        }
      ],
      "source": [
        "import time\n",
        "if __name__ == \"__main__\":\n",
        "    estado_inicial = [10, 9, 8, 7, 6, 5, 4, 3, 2, 1]\n",
        "    solucion = [1, 2, 3, 4, 5, 6, 7, 8, 9, 10]\n",
        "    start = time.time()\n",
        "    nodo_solucion = bpa(estado_inicial, solucion)\n",
        "    end =time.time()\n",
        "    print('Tiempo de ejecucion : ',end-start, 'seg.','\\n')\n",
        "    # mostrar resultado\n",
        "    resultado = []\n",
        "    nodo_actual = nodo_solucion\n",
        "    while nodo_actual.get_padre() is not None:\n",
        "        resultado.append(nodo_actual.get_datos())\n",
        "        nodo_actual = nodo_actual.get_padre()\n",
        "\n",
        "    resultado.append(estado_inicial)\n",
        "    resultado.reverse()\n",
        "    print(\"*****\"*10)\n",
        "    #print('\\n',resultado)\n",
        "    print('Movimientos : \\n')\n",
        "    for i in range(len(resultado)):\n",
        "      print(resultado[i])"
      ]
    }
  ],
  "metadata": {
    "colab": {
      "provenance": []
    },
    "kernelspec": {
      "display_name": "Python 3.10.7 64-bit",
      "language": "python",
      "name": "python3"
    },
    "language_info": {
      "codemirror_mode": {
        "name": "ipython",
        "version": 3
      },
      "file_extension": ".py",
      "mimetype": "text/x-python",
      "name": "python",
      "nbconvert_exporter": "python",
      "pygments_lexer": "ipython3",
      "version": "3.10.7"
    },
    "vscode": {
      "interpreter": {
        "hash": "369f2c481f4da34e4445cda3fffd2e751bd1c4d706f27375911949ba6bb62e1c"
      }
    }
  },
  "nbformat": 4,
  "nbformat_minor": 0
}
